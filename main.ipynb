{
 "cells": [
  {
   "cell_type": "markdown",
   "metadata": {},
   "source": [
    "# Methods for finding the roots of an equation"
   ]
  },
  {
   "cell_type": "code",
   "execution_count": 12,
   "metadata": {},
   "outputs": [],
   "source": [
    "import math as m\n",
    "f = lambda x: 2 - x**2 -m.sin(x) #f(x)\n",
    "fprime = lambda x: -2*x-m.cos(x) #f'(x) for newton-raphson\n",
    "g = lambda x: 2-4*m.cos(x) #g(x) for fixed-point\n",
    "accuracy = 4 #decimal approximation\n",
    "a,b = (1,2) #interval for bisection and regula-falsi"
   ]
  },
  {
   "cell_type": "markdown",
   "metadata": {},
   "source": [
    "### 1. Bisection Method"
   ]
  },
  {
   "cell_type": "code",
   "execution_count": null,
   "metadata": {},
   "outputs": [],
   "source": [
    "def bisection(a,b,acc):\n",
    "    if f(a)==0:\n",
    "        return a\n",
    "    if f(b)==0:\n",
    "        return b\n",
    "    if f(a)*f(b)<0:\n",
    "        x0=(a+b)/2\n",
    "        i=0\n",
    "        print(f'{i}\\t{a:.6f}\\t{b:.6f}\\t{x0:.6f}\\t{f(x0):.6f}')\n",
    "        while 1:\n",
    "            i+=1\n",
    "            if f(x0)==0:\n",
    "                return x0\n",
    "            temp = str(x0)[:acc+2] if x0>=0 else str(x0)[:acc+3]\n",
    "            if f(a)*f(x0)<0:\n",
    "                b=x0  \n",
    "            else: \n",
    "                a=x0\n",
    "            x0=(a+b)/2\n",
    "            print(f'{i}\\t{a:.6f}\\t{b:.6f}\\t{x0:.6f}\\t{f(x0):.6f}')\n",
    "            temp1 = str(x0)[:acc+2] if x0>=0 else str(x0)[:acc+3]\n",
    "            if temp==temp1:\n",
    "                return x0\n",
    "    return 'Inconclusive'\n",
    "print('{}\\t{}\\t{}\\t{}\\t{}\\n{}'.format('Iter','a'.center(8,' '),'b'.center(8,' '),'x0'.center(8,' '),'f(x0)'.center(8,' '),'-'*65))\n",
    "print(bisection(a,b,accuracy))"
   ]
  },
  {
   "cell_type": "markdown",
   "metadata": {},
   "source": [
    "### 2. Regula-Falsi Method"
   ]
  },
  {
   "cell_type": "code",
   "execution_count": null,
   "metadata": {},
   "outputs": [],
   "source": [
    "def regula_falsi(a,b,acc):\n",
    "    if f(a)==0:\n",
    "        return a\n",
    "    if f(b)==0:\n",
    "        return b\n",
    "    if f(a)*f(b)<0:\n",
    "        slope=(f(b)-f(a))/(b-a)\n",
    "        x0=a-(f(a)/slope)\n",
    "        i=0\n",
    "        print('{}\\t{:.6f}\\t{:.6f}\\t{:.6f}\\t{:.6f}'.format(i,a,b,x0,f(x0)))\n",
    "        while 1:\n",
    "            i+=1\n",
    "            if f(x0)==0:\n",
    "                return x0\n",
    "            temp = str(x0)[:acc+2] if x0>=0 else str(x0)[:acc+3]\n",
    "            if f(a)*f(x0)<0:\n",
    "                b=x0  \n",
    "            else: \n",
    "                a=x0\n",
    "            slope=(f(b)-f(a))/(b-a)\n",
    "            x0=a-(f(a)/slope)\n",
    "            print('{}\\t{:.6f}\\t{:.6f}\\t{:.6f}\\t{:.6f}'.format(i,a,b,x0,f(x0)))\n",
    "            temp1 = str(x0)[:acc+2] if x0>=0 else str(x0)[:acc+3]\n",
    "            if temp==temp1:\n",
    "                return x0\n",
    "    return 'Inconclusive'\n",
    "print('{}\\t{}\\t{}\\t{}\\t{}\\n{}'.format('Iter','a'.center(8,' '),'b'.center(8,' '),'x0'.center(8,' '),'f(x0)'.center(8,' '),'-'*65))\n",
    "print(regula_falsi(a,b,accuracy))"
   ]
  },
  {
   "cell_type": "markdown",
   "metadata": {},
   "source": [
    "### 3. Newton-Raphson's Method"
   ]
  },
  {
   "cell_type": "code",
   "execution_count": null,
   "metadata": {},
   "outputs": [],
   "source": [
    "def newton_raphson(x0,acc):\n",
    "    if f(x0)==0:\n",
    "        return x0\n",
    "    i=0\n",
    "    print('{}\\t{:.6f}\\t{:.6f}\\t{:.6f}'.format(i,x0,f(x0),fprime(x0)))\n",
    "    while 1:\n",
    "        i+=1\n",
    "        temp = str(x0)[:acc+2] if x0>=0 else str(x0)[:acc+3]\n",
    "        x0-=(f(x0)/fprime(x0))\n",
    "        print('{}\\t{:.6f}\\t{:.6f}\\t{:.6f}'.format(i,x0,f(x0),fprime(x0)))\n",
    "        temp1 = str(x0)[:acc+2] if x0>=0 else str(x0)[:acc+3]\n",
    "        if temp==temp1:\n",
    "            return x0\n",
    "x0 = 1 #initial approximation\n",
    "print('{}\\t{}\\t{}\\t{}\\n{}'.format('Iter','x0'.center(8,' '),'f(x0)'.center(8,' '),'f\\'(x0)'.center(8,' '),'-'*55))\n",
    "print(newton_raphson(x0,accuracy))"
   ]
  },
  {
   "cell_type": "markdown",
   "metadata": {},
   "source": [
    "### 4. Secant Method"
   ]
  },
  {
   "cell_type": "code",
   "execution_count": null,
   "metadata": {},
   "outputs": [],
   "source": [
    "def secant(x0,x1,acc):\n",
    "    if f(x0)==0:\n",
    "        return x0\n",
    "    if f(x1)==0:\n",
    "        return x1\n",
    "    i=0\n",
    "    temp = str(x1)[:acc+2] if x1>=0 else str(x1)[:acc+3]\n",
    "    while 1:\n",
    "        slope=(f(x1)-f(x0))/(x1-x0)\n",
    "        x2=x1-(f(x1)/slope)\n",
    "        print('{}\\t{:.6f}\\t{:.6f}\\t{:.6f}'.format(i,x0,x1,x2))\n",
    "        i+=1\n",
    "        if f(x2)==0:\n",
    "            return x0\n",
    "        temp1 = str(x2)[:acc+2] if x2>=0 else str(x2)[:acc+3]\n",
    "        if temp==temp1:\n",
    "            return x2\n",
    "        temp = str(x2)[:acc+2] if x2>=0 else str(x2)[:acc+3]\n",
    "        x0=x1\n",
    "        x1=x2\n",
    "x0, x1 = 1,2 #open initial approxiamtions\n",
    "print('{}\\t{}\\t{}\\t{}\\n{}'.format('Iter','x0'.center(8,' '),'x1'.center(8,' '),'x2'.center(8,' '),'-'*55))\n",
    "print(secant(x0,x1,accuracy))"
   ]
  },
  {
   "cell_type": "markdown",
   "metadata": {},
   "source": [
    "### 5. Fixed-Point Iteration Method"
   ]
  },
  {
   "cell_type": "code",
   "execution_count": null,
   "metadata": {},
   "outputs": [],
   "source": [
    "def fixed(x0,acc):\n",
    "    i=0\n",
    "    print('{}\\t{:.6f}'.format(i,x0))\n",
    "    while 1:\n",
    "        temp = str(x0)[:acc+2] if x0>=0 else str(x0)[:acc+3]\n",
    "        x0 = g(x0)\n",
    "        i+=1\n",
    "        print('{}\\t{:.6f}'.format(i,x0))\n",
    "        temp1 = str(x0)[:acc+2] if x0>=0 else str(x0)[:acc+3]\n",
    "        if temp==temp1:\n",
    "            return x0\n",
    "        if i>200:\n",
    "            return 'Divergent'\n",
    "x0=1.875 #initial approximation\n",
    "print('{}\\t{}\\n{}'.format('Iter','x0'.center(8,' '),'-'*20))\n",
    "print(fixed(x0,accuracy))"
   ]
  },
  {
   "cell_type": "markdown",
   "metadata": {},
   "source": [
    "# Interpolation and Approximation"
   ]
  },
  {
   "cell_type": "code",
   "execution_count": null,
   "metadata": {},
   "outputs": [],
   "source": [
    "import math as m\n",
    "x_data = [-2,1,3,7] #x-coordinates\n",
    "y_data = [5,7,11,34] #y-coordinates\n",
    "data = list(zip(x_data,y_data)) \n",
    "x = 0 #the value of f(x) to be found\n",
    "n = len(data)-1 #degree of interpolant"
   ]
  },
  {
   "cell_type": "markdown",
   "metadata": {},
   "source": [
    "### 1. Lagrange's Interpolation"
   ]
  },
  {
   "cell_type": "code",
   "execution_count": null,
   "metadata": {},
   "outputs": [],
   "source": [
    "result=0\n",
    "for i in range(n+1):\n",
    "    ans=y_data[i]\n",
    "    for j in range(n+1):\n",
    "        if i!=j:\n",
    "            ans*=((x-x_data[j])/(x_data[i]-x_data[j]))\n",
    "    result+=ans\n",
    "print(result)"
   ]
  },
  {
   "cell_type": "markdown",
   "metadata": {},
   "source": [
    "# Single Variable Optimization\n",
    "###### Note: Only for finding the interval containing the local minimum"
   ]
  },
  {
   "cell_type": "code",
   "execution_count": 9,
   "metadata": {},
   "outputs": [],
   "source": [
    "import math as m \n",
    "f = lambda x: x**2 + 54/x #f(x)\n",
    "g = lambda w: (16*w**4) - 14*8*w**3 + 240*w**2 - 140*w #g(x) for golden search"
   ]
  },
  {
   "cell_type": "markdown",
   "metadata": {},
   "source": [
    "### 1. Exhaustive Search"
   ]
  },
  {
   "cell_type": "code",
   "execution_count": null,
   "metadata": {},
   "outputs": [],
   "source": [
    "a, b = (0,1) #interval (a,b)\n",
    "n = 10 #number of intermediate points\n",
    "dx = (b-a)/n\n",
    "x1 = a\n",
    "x2 = x1 + dx\n",
    "x3 = x2 + dx\n",
    "i = 1\n",
    "print(f'{\"Iter\"}\\t{\"x1\".center(8)}\\t{\"x2\".center(8)}\\t{\"x3\".center(8)}\\t{\"f(x1)\".center(8)}\\t{\"f(x2)\".center(8)}\\t{\"f(x3)\".center(8)}\\n{\"-\"*98}')\n",
    "print(f'{i}\\t{x1:.6f}\\t{x2:.6f}\\t{x3:.6f}\\t{round(f(x1),6):.6f}\\t{round(f(x2),6):.6f}\\t{round(f(x3),6):.6f}')\n",
    "while not(round(f(x1),6)>=round(f(x2),6)<=round(f(x3),6)):\n",
    "    if x3>b:\n",
    "        print(f'No minimum exists in ({a},{b})')\n",
    "        break\n",
    "    x1, x2, x3 = x2, x3, x3 + dx\n",
    "    i += 1\n",
    "    print(f'{i}\\t{x1:.6f}\\t{x2:.6f}\\t{x3:.6f}\\t{round(f(x1),6):.6f}\\t{round(f(x2),6):.6f}\\t{round(f(x3),6):.6f}')"
   ]
  },
  {
   "cell_type": "markdown",
   "metadata": {},
   "source": [
    "### 2. Bounding Phase Method"
   ]
  },
  {
   "cell_type": "code",
   "execution_count": null,
   "metadata": {},
   "outputs": [],
   "source": [
    "checkdelta = lambda delta, x0: delta if f(x0-abs(delta))>=f(x0)>=f(x0+abs(delta)) else -delta\n",
    "x0 = 30 #initial guess\n",
    "delta = 5 #smaller increament means more accurate bracketing\n",
    "delta = checkdelta(delta, x0)\n",
    "k = 0\n",
    "print(f'{\"Iter\"}\\t{\"x0\".center(8)}\\t{\"x1\".center(8)}\\t{\"f(x0)\".center(8)}\\t{\"f(x1)\".center(8)}\\t{\"f(x0)<=f(x1)\"}\\n{\"-\"*85}')\n",
    "while 1:\n",
    "    x1 = x0+(2**k)*delta\n",
    "    print(f'{k}\\t{x0:.6f}\\t{x1:.6f}\\t{round(f(x0),6):.6f}\\t{round(f(x1),6):.6f}\\t{round(f(x0),6)<=round(f(x1),6)}')\n",
    "    if round(f(x0),6)<=round(f(x1),6):\n",
    "        break\n",
    "    k+=1\n",
    "    x0, x1 = x1, (x1+(2**k)*delta)"
   ]
  },
  {
   "cell_type": "markdown",
   "metadata": {},
   "source": [
    "### 3. Fibonacci Search Method"
   ]
  },
  {
   "cell_type": "code",
   "execution_count": null,
   "metadata": {},
   "outputs": [],
   "source": [
    "def fib(n):\n",
    "    if n>=0:\n",
    "        f0 = 1\n",
    "        f1 = 1\n",
    "        if n==0 or n==1:\n",
    "            return 1\n",
    "        else:\n",
    "            for i in range(n-1):\n",
    "                f0, f1 = f1, f0 + f1\n",
    "        return f1\n",
    "    return 'Invalid'\n",
    "\n",
    "a, b = (0,5) #interval\n",
    "l = b - a\n",
    "k = 2\n",
    "n = 3 #no of evaluations\n",
    "fn = fib(n+1)\n",
    "print(f'k\\tLi\\t{\"(x1, x2)\".center(10)}\\t{\"f(x1), f(x2)\".center(18)}\\t{\"Rule\".center(10)}\\tNew Interval\\n{\"-\"*85}')\n",
    "if fn != \"Invalid\":\n",
    "    while k<=n:\n",
    "        li = round(((fib(n-k+1)/fn)*l),4)\n",
    "        x1 = round(a + li,4)\n",
    "        x2 = round(b - li,4)\n",
    "        if (round(f(x1),4)>round(f(x2),4)):\n",
    "            rule = \"f(x1)>f(x2)\"\n",
    "            a = x1\n",
    "        elif (round(f(x1),4)<round(f(x2),4)):\n",
    "            rule = \"f(x1)<f(x2)\"\n",
    "            b = x2\n",
    "        else:\n",
    "            rule = \"f(x1)=f(x2)\"\n",
    "            a, b = x1, x2\n",
    "        print(f'{k}\\t{li}\\t({x1}, {x2})\\t({round(f(x1),4)}, {round(f(x2),4)})\\t{rule}\\t({a}, {b})')\n",
    "        k += 1\n",
    "else:\n",
    "    print(\"Invalid fibo value\")"
   ]
  },
  {
   "cell_type": "markdown",
   "metadata": {},
   "source": [
    "### 4. Golden Section Search Method"
   ]
  },
  {
   "cell_type": "code",
   "execution_count": null,
   "metadata": {},
   "outputs": [],
   "source": [
    "aw, bw = (0, 1)\n",
    "lw = 1 #length of interval\n",
    "e = 10**(-3) #tolerance\n",
    "k = 1\n",
    "print(f'Iter\\t{\"w1\".center(6)}\\t{\"w2\".center(6)}\\t{\"g(w1), g(w2)\".center(18)}\\t{\"Condition\".center(11)}\\t{\"New Interval\".center(18)}\\t{\"|Lw|<e\"}\\n{\"-\"*95}')\n",
    "while not(abs(lw)<e):\n",
    "    if k==5:\n",
    "        break\n",
    "    w1 = round(aw + 0.618*lw,4)\n",
    "    w2 = round(bw - 0.618*lw,4)\n",
    "    w1, w2 = min(w1,w2), max(w1,w2)\n",
    "    if (round(g(w1),4)>round(g(w2),4)):\n",
    "        rule = \"g(w1)>g(w2)\"\n",
    "        aw = w1\n",
    "    elif (round(g(w1),4)<round(g(w2),4)):\n",
    "        rule = \"g(w1)<g(w2)\"\n",
    "        bw = w2\n",
    "    else:\n",
    "        rule = \"g(w1)=g(w2)\"\n",
    "        aw, bw = w1, w2\n",
    "    lw = bw - aw\n",
    "    print(f'{k}\\t{round(w1,4):.4f}\\t{round(w2,4):.4f}\\t({round(g(w1),4):.4f}, {round(g(w2),4):.4f})\\t{rule}\\t({round(aw,4):.4f}, {round(bw,4):.4f})\\t{abs(lw)<e}')\n",
    "    k += 1"
   ]
  },
  {
   "cell_type": "markdown",
   "metadata": {},
   "source": [
    "# Multivariable Optimization"
   ]
  },
  {
   "cell_type": "code",
   "execution_count": 8,
   "metadata": {},
   "outputs": [],
   "source": [
    "import numpy as np\n",
    "from sympy import *\n",
    "x, y, a = symbols('x y alpha')\n",
    "f = 6 - 2*x + y + 2*x**2 + 3*x*y + y**2 #f(x)\n",
    "dfdx = Derivative(f,x).doit() #partial derivative of f(x) with respect to x\n",
    "dfdy = Derivative(f,y).doit() #partial derivative of f(x) with respect to y\n",
    "d2fdx2 = Derivative(dfdx,x).doit()\n",
    "d2fdxy = Derivative(dfdx,y).doit()\n",
    "d2fdy2 = Derivative(dfdy,y).doit()\n",
    "d2fdyx = Derivative(dfdy,x).doit()\n",
    "f = lambdify([x,y],f)\n",
    "dfdx = lambdify([x,y],dfdx)\n",
    "dfdy = lambdify([x,y],dfdy)\n",
    "d2fdx2 = lambdify([x,y],d2fdx2)\n",
    "d2fdxy = lambdify([x,y],d2fdxy)\n",
    "d2fdy2 = lambdify([x,y],d2fdy2)\n",
    "d2fdyx = lambdify([x,y],d2fdyx)"
   ]
  },
  {
   "cell_type": "markdown",
   "metadata": {},
   "source": [
    "### 1. Cauchy's Steepest Descent Method"
   ]
  },
  {
   "cell_type": "code",
   "execution_count": null,
   "metadata": {},
   "outputs": [],
   "source": [
    "x0 = (0,0) #initial point\n",
    "deltaf = [dfdx(*x0),dfdy(*x0)]\n",
    "print(f'Iter\\t{\"x0\".center(10)}\\t{\"lambda\".center(6)}\\t{\"x1\".center(10)}\\t{\"gradf\".center(6)}\\n{\"-\"*65}')\n",
    "i = 1\n",
    "while 1:\n",
    "    temp = x0\n",
    "    if i ==4 or deltaf == [0,0]:\n",
    "        break\n",
    "    s = np.dot(-1,deltaf)\n",
    "    fun = np.add(x0,np.dot(a,s))\n",
    "    l1 = list(roots(f(*fun).diff(a)).keys())[0]\n",
    "    l1s = np.dot(l1,s)\n",
    "    x0 = np.add(x0,l1s)\n",
    "    deltaf = [dfdx(*x0),dfdy(*x0)]\n",
    "    print(f'{i}\\t{str(temp).center(10)}\\t{str(l1).center(6)}\\t{str(x0).center(10)}\\t{str(deltaf).center(10)}')\n",
    "    i += 1\n"
   ]
  },
  {
   "cell_type": "markdown",
   "metadata": {},
   "source": [
    "### 2. Newton's Method"
   ]
  },
  {
   "cell_type": "code",
   "execution_count": null,
   "metadata": {},
   "outputs": [],
   "source": [
    "x0 = (-2,2) #initial point\n",
    "deltaf = (dfdx(*x0),dfdy(*x0)) #gradient\n",
    "j = ([d2fdx2(*x0),d2fdxy(*x0)],[d2fdyx(*x0),d2fdy2(*x0)]) #Hessian matrix at x0\n",
    "j = np.linalg.inv(j)\n",
    "res = np.dot(j,deltaf)\n",
    "x1 = np.subtract(x0,res)\n",
    "print(f'X1: {x1}')\n",
    "print(f'Grad f at X1: {dfdx(*x1)},{dfdy(*x1)}')\n",
    "x0 = x1"
   ]
  }
 ],
 "metadata": {
  "interpreter": {
   "hash": "b0fa6594d8f4cbf19f97940f81e996739fb7646882a419484c72d19e05852a7e"
  },
  "kernelspec": {
   "display_name": "Python 3.9.7 64-bit",
   "name": "python3"
  },
  "language_info": {
   "codemirror_mode": {
    "name": "ipython",
    "version": 3
   },
   "file_extension": ".py",
   "mimetype": "text/x-python",
   "name": "python",
   "nbconvert_exporter": "python",
   "pygments_lexer": "ipython3",
   "version": "3.9.10"
  },
  "orig_nbformat": 4
 },
 "nbformat": 4,
 "nbformat_minor": 2
}
